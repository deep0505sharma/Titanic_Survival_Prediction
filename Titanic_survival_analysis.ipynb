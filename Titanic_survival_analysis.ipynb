{
 "cells": [
  {
   "cell_type": "code",
   "execution_count": 2,
   "metadata": {},
   "outputs": [],
   "source": [
    "import numpy as np\n",
    "import pandas as pd\n",
    "from sklearn.linear_model import LogisticRegression\n",
    "from sklearn.metrics import accuracy_score,confusion_matrix,precision_score,recall_score,f1_score\n",
    "from sklearn.svm import SVC"
   ]
  },
  {
   "cell_type": "code",
   "execution_count": 3,
   "metadata": {},
   "outputs": [],
   "source": [
    "# Scipy for some statistical calculations\n",
    "from scipy.stats import pearsonr\n",
    "\n",
    "# Numpy for working with arrays\n",
    "from numpy import isnan\n",
    "\n",
    "# Sklearn for imputing missing values and model building\n",
    "from sklearn.impute import SimpleImputer\n",
    "from sklearn.preprocessing import LabelEncoder\n",
    "from sklearn.ensemble import RandomForestClassifier\n",
    "from sklearn.model_selection import train_test_split\n",
    "from sklearn.model_selection import cross_val_score\n",
    "\n",
    "# Matplotlib for plotting \n",
    "import matplotlib.pyplot as plt"
   ]
  },
  {
   "cell_type": "code",
   "execution_count": 4,
   "metadata": {},
   "outputs": [
    {
     "name": "stdout",
     "output_type": "stream",
     "text": [
      "<class 'pandas.core.frame.DataFrame'>\n",
      "RangeIndex: 891 entries, 0 to 890\n",
      "Data columns (total 12 columns):\n",
      " #   Column       Non-Null Count  Dtype  \n",
      "---  ------       --------------  -----  \n",
      " 0   PassengerId  891 non-null    int64  \n",
      " 1   Survived     891 non-null    int64  \n",
      " 2   Pclass       891 non-null    int64  \n",
      " 3   Name         891 non-null    object \n",
      " 4   Sex          891 non-null    object \n",
      " 5   Age          714 non-null    float64\n",
      " 6   SibSp        891 non-null    int64  \n",
      " 7   Parch        891 non-null    int64  \n",
      " 8   Ticket       891 non-null    object \n",
      " 9   Fare         891 non-null    float64\n",
      " 10  Cabin        204 non-null    object \n",
      " 11  Embarked     889 non-null    object \n",
      "dtypes: float64(2), int64(5), object(5)\n",
      "memory usage: 83.7+ KB\n"
     ]
    }
   ],
   "source": [
    "train = pd.read_csv('train.csv')\n",
    "test = pd.read_csv('test.csv')\n",
    "train.info()"
   ]
  },
  {
   "cell_type": "markdown",
   "metadata": {},
   "source": [
    "The descriptive statistics for the training data show Age, Cabin, and Embarked have some missing values. These will need to be addressed prior to model building. A few possible approaches:\n",
    "\n",
    "(1) Delete rows with missing values. If there are only a few rows, this is okay. But deleting a large percentage of the rows will reduce the amount of information the data can provide.\n",
    "\n",
    "(2) Impute missing values. We can fill in missing values with the mean, median, or mode of that variable. Which approach to use depends on the distribution of the data. If the data is heavily skewed, either the median or the mode would be best."
   ]
  },
  {
   "cell_type": "code",
   "execution_count": 5,
   "metadata": {},
   "outputs": [
    {
     "name": "stdout",
     "output_type": "stream",
     "text": [
      "Pearson correlation between Fare and Pclass: r = -0.549\n"
     ]
    }
   ],
   "source": [
    "corr, _ = pearsonr(train.Fare, train.Pclass)\n",
    "print(\"Pearson correlation between Fare and Pclass: r = {:.3f}\".format(corr))"
   ]
  },
  {
   "cell_type": "markdown",
   "metadata": {},
   "source": [
    "As expected, there is a sizable negative correlation between Fare and Pclass. So, passengers in first class tended to pay larger fares. Thus, I will reduce the dimensionality of the training data later during preprocessing and just drop Fare from the dataset. I am keeping Pclass instead because, having only three possible values, I suspect it will be a more reliable predictor than Fare, which has some unusual values."
   ]
  },
  {
   "cell_type": "code",
   "execution_count": 6,
   "metadata": {},
   "outputs": [
    {
     "name": "stdout",
     "output_type": "stream",
     "text": [
      "\n",
      "Survived values are: [0 1]\n",
      "\n",
      "Pclass values are: [3 1 2]\n",
      "\n",
      "Sex values are: ['male' 'female']\n",
      "\n",
      "SibSp values are: [1 0 3 4 2 5 8]\n",
      "\n",
      "Parch values are: [0 1 2 5 3 4 6]\n",
      "\n",
      "Embarked values are: ['S' 'C' 'Q' nan]\n"
     ]
    }
   ],
   "source": [
    "# Survived, Pclass, Sex, SibSp, Parch, and Embarked have \n",
    "# limited values. Check unique values\n",
    "print(\"\\nSurvived values are:\", train.Survived.unique())\n",
    "print(\"\\nPclass values are:\", train.Pclass.unique())\n",
    "print(\"\\nSex values are:\", train.Sex.unique())\n",
    "print(\"\\nSibSp values are:\", train.SibSp.unique())\n",
    "print(\"\\nParch values are:\", train.Parch.unique())\n",
    "print(\"\\nEmbarked values are:\", train.Embarked.unique())"
   ]
  },
  {
   "cell_type": "code",
   "execution_count": 8,
   "metadata": {},
   "outputs": [
    {
     "name": "stdout",
     "output_type": "stream",
     "text": [
      "Pearson correlation between SibSp and Parch: r = 0.415\n"
     ]
    }
   ],
   "source": [
    "corr, _ = pearsonr(train.SibSp, train.Parch)\n",
    "print(\"Pearson correlation between SibSp and Parch: r = {:.3f}\".format(corr))"
   ]
  },
  {
   "cell_type": "markdown",
   "metadata": {},
   "source": [
    "Since the correlation between SibSp and Parch is 0.415, this may suggest it is redundant to include both covariates in the data. We'll try dropping one of the columns or combining them into a single predictor (feature engineering) and dropping the original two columns. Either way, this will reduce the number of predictors by 1, and thus gives some dimensionality reduction, which can improve predictions."
   ]
  },
  {
   "cell_type": "code",
   "execution_count": 9,
   "metadata": {},
   "outputs": [
    {
     "name": "stdout",
     "output_type": "stream",
     "text": [
      "\n",
      "Pearson correlation between SibSp and Survived: r = -0.035\n",
      "\n"
     ]
    },
    {
     "data": {
      "image/png": "[encoded data removed]",
      "text/plain": [
       "<Figure size 432x288 with 1 Axes>"
      ]
     },
     "metadata": {
      "needs_background": "light"
     },
     "output_type": "display_data"
    },
    {
     "name": "stdout",
     "output_type": "stream",
     "text": [
      "\n",
      "Pearson correlation between Parch and Survived: r = 0.082\n",
      "\n"
     ]
    },
    {
     "data": {
      "image/png": "[encoded data removed]",
      "text/plain": [
       "<Figure size 432x288 with 1 Axes>"
      ]
     },
     "metadata": {
      "needs_background": "light"
     },
     "output_type": "display_data"
    }
   ],
   "source": [
    "# Calculate correlation between SibSp and Survived, Parch and Survived, and compare which is stronger\n",
    "corr, _ = pearsonr(train.SibSp, train.Survived)\n",
    "print(\"\\nPearson correlation between SibSp and Survived: r = {:.3f}\\n\".format(corr))\n",
    "\n",
    "# Plotting Survived vs. SibSp or Parch doesn't help, since Survived = (0, 1); plot survival rate for each group instead\n",
    "# Get a list of the survival rates for each SibSp value; FOR loop that iterates up to the max value (6); add 1 to include 6\n",
    "SibSp_surv = []\n",
    "for i in range(train.SibSp.max() + 1):\n",
    "    surv = train[train.SibSp == i][\"Survived\"]\n",
    "    \n",
    "    # Use IF statement to check that surv has values, otherwise division by zero error will result\n",
    "    if len(surv) > 0:\n",
    "        SibSp_surv.append(sum(surv) / len(surv))\n",
    "    else:\n",
    "        SibSp_surv.append(0)\n",
    "\n",
    "plt.bar(range(train.SibSp.max() + 1), SibSp_surv)\n",
    "plt.xlabel(\"SibSp\")\n",
    "plt.ylabel(\"Survived\")\n",
    "plt.title(\"Survival Rate by SubSp\")\n",
    "plt.show()\n",
    "\n",
    "corr, _ = pearsonr(train.Parch, train.Survived)\n",
    "print(\"\\nPearson correlation between Parch and Survived: r = {:.3f}\\n\".format(corr))\n",
    "\n",
    "# Get a list of the survival rates for each Parch value; FOR loop that iterates up to the max value (8); add 1 to include 8\n",
    "Parch_surv = []\n",
    "for i in range(train.Parch.max() + 1):\n",
    "    surv = train[train.Parch == i][\"Survived\"]\n",
    "    \n",
    "    # Use IF statement to check that surv has values, otherwise division by zero error will result\n",
    "    if len(surv) > 0:\n",
    "        Parch_surv.append(sum(surv) / len(surv))\n",
    "    else:\n",
    "        Parch_surv.append(0)\n",
    "\n",
    "plt.bar(range(train.Parch.max() + 1), Parch_surv)\n",
    "plt.xlabel(\"Parch\")\n",
    "plt.ylabel(\"Survived\")\n",
    "plt.title(\"Survival Rate by Parch\")\n",
    "plt.show()"
   ]
  },
  {
   "cell_type": "markdown",
   "metadata": {},
   "source": [
    "Based on the bar graphs of Survival Rates by SibSp and Parch, there is some truth to our previous hunch that passenger with lower values for this variable will have higher survival rates than those with higher values. Further, since the correlations between these predictors and the response, Survived, are both close to zero, I will combine these two predictors into a single predictor and drop SibSp and Parch from the training data set used for model building.\n",
    "\n",
    "Next, let's take a look at the rate of survival by Pclass, Sex, Embarked, and Age."
   ]
  },
  {
   "cell_type": "code",
   "execution_count": 10,
   "metadata": {},
   "outputs": [
    {
     "data": {
      "image/png": "[encoded data removed]",
      "text/plain": [
       "<Figure size 432x288 with 1 Axes>"
      ]
     },
     "metadata": {
      "needs_background": "light"
     },
     "output_type": "display_data"
    },
    {
     "data": {
      "image/png": "[encoded data removed]",
      "text/plain": [
       "<Figure size 432x288 with 1 Axes>"
      ]
     },
     "metadata": {
      "needs_background": "light"
     },
     "output_type": "display_data"
    },
    {
     "data": {
      "image/png": "[encoded data removed]",
      "text/plain": [
       "<Figure size 432x288 with 1 Axes>"
      ]
     },
     "metadata": {
      "needs_background": "light"
     },
     "output_type": "display_data"
    },
    {
     "data": {
      "image/png": "[encoded data removed]",
      "text/plain": [
       "<Figure size 432x288 with 1 Axes>"
      ]
     },
     "metadata": {
      "needs_background": "light"
     },
     "output_type": "display_data"
    }
   ],
   "source": [
    "# Get a list of the survival rates for each Pclass value; FOR loop that iterates up to the max value (3)\n",
    "\n",
    "Pclass_surv = []\n",
    "for i in range(train.Pclass.max()):\n",
    "    surv = train[train.Pclass == i + 1][\"Survived\"]\n",
    "    \n",
    "    # Use IF statement to check that surv has values, otherwise division by zero error will result\n",
    "    if len(surv) > 0:\n",
    "        Pclass_surv.append(sum(surv) / len(surv))\n",
    "    else:\n",
    "        Pclass_surv.append(0)\n",
    "\n",
    "plt.bar([1, 2, 3], Pclass_surv)\n",
    "plt.xlabel(\"Pclass\")\n",
    "plt.ylabel(\"Survived\")\n",
    "plt.title(\"Survival Rate by Pclass\")\n",
    "plt.show()\n",
    "\n",
    "# Get a list of the survival rates for each Sex\n",
    "\n",
    "men_surv = train[train.Sex == \"male\"][\"Survived\"]\n",
    "men_surv_rate = sum(men_surv) / len(men_surv)\n",
    "women_surv = train[train.Sex == \"female\"][\"Survived\"]\n",
    "women_surv_rate = sum(women_surv) / len(women_surv)\n",
    "\n",
    "plt.bar(['Male', 'Female'], [men_surv_rate, women_surv_rate])\n",
    "plt.xlabel(\"Sex\")\n",
    "plt.ylabel(\"Survived\")\n",
    "plt.title(\"Survival Rate by Sex\")\n",
    "plt.show()\n",
    "\n",
    "# Get a list of the survival rates for each Embarked value\n",
    "\n",
    "C_surv = train[train.Embarked == \"C\"][\"Survived\"]\n",
    "C_surv_rate = sum(C_surv) / len(C_surv)\n",
    "Q_surv = train[train.Embarked == \"Q\"][\"Survived\"]\n",
    "Q_surv_rate = sum(Q_surv) / len(Q_surv)\n",
    "S_surv = train[train.Embarked == \"S\"][\"Survived\"]\n",
    "S_surv_rate = sum(S_surv) / len(S_surv)\n",
    "\n",
    "\n",
    "plt.bar(['C', 'Q', 'S'], [C_surv_rate, Q_surv_rate, S_surv_rate])\n",
    "plt.xlabel(\"Embarked\")\n",
    "plt.ylabel(\"Survived\")\n",
    "plt.title(\"Survival Rate by Embarked\")\n",
    "plt.show()\n",
    "\n",
    "# Get a list of the survival rates for each Age; use a FOR loop to iterate over elements of the list of unique Ages\n",
    "age_unique = train.Age.unique()\n",
    "age_unique = age_unique[~isnan(age_unique)]\n",
    "age_unique.sort()\n",
    "\n",
    "age_surv_rate = []\n",
    "for age in age_unique:\n",
    "    age_surv = train[train.Age == age][\"Survived\"]\n",
    "    \n",
    "    # Use IF statement to check that age_surv has values, otherwise division by zero error will result\n",
    "    if len(age_surv) > 0:\n",
    "        age_surv_rate.append(sum(age_surv) / len(age_surv))\n",
    "    else:\n",
    "        age_surv_rate.append(0)\n",
    "        \n",
    "plt.bar(age_unique, age_surv_rate)\n",
    "plt.xlabel(\"Age\")\n",
    "plt.ylabel(\"Survived\")\n",
    "plt.title(\"Survival Rate by Age\")\n",
    "plt.show()"
   ]
  },
  {
   "cell_type": "markdown",
   "metadata": {},
   "source": [
    "The barplots above show clearly that there are differences in survival rates based on class, sex, and embarking point. Thus, these predictors are useful to add in the model.\n",
    "\n",
    "For age, however, the trend is not so clear. There is evidence that people under 20 years old overall had a higher survival rate. However, this is seen somewhat for those over 20 as well. Some ages have 100% survival, which is likely due to just one person in that age group, and they made it out. This would be expected with very young and very old passengers.\n",
    "\n",
    "Based on the above analysis, the predictors I will use to build a model are the following:\n",
    "\n",
    "Pclass\n",
    "Sex\n",
    "Age\n",
    "A featured based on SibSp and Parch\n",
    "Embarked\n",
    "I turn now to preprocessing the data to prepare it for building a model."
   ]
  },
  {
   "cell_type": "code",
   "execution_count": 11,
   "metadata": {},
   "outputs": [
    {
     "name": "stdout",
     "output_type": "stream",
     "text": [
      "The number of missing values for each column is shown below:\n",
      "\n",
      "PassengerId      0\n",
      "Survived         0\n",
      "Pclass           0\n",
      "Name             0\n",
      "Sex              0\n",
      "Age            177\n",
      "SibSp            0\n",
      "Parch            0\n",
      "Ticket           0\n",
      "Fare             0\n",
      "Cabin          687\n",
      "Embarked         2\n",
      "dtype: int64\n"
     ]
    },
    {
     "data": {
      "image/png": "[encoded data removed]",
      "text/plain": [
       "<Figure size 432x288 with 1 Axes>"
      ]
     },
     "metadata": {
      "needs_background": "light"
     },
     "output_type": "display_data"
    },
    {
     "name": "stdout",
     "output_type": "stream",
     "text": [
      "\n",
      "The number of missing values for each column after imputation is shown below:\n",
      "\n",
      "PassengerId      0\n",
      "Survived         0\n",
      "Pclass           0\n",
      "Name             0\n",
      "Sex              0\n",
      "Age              0\n",
      "SibSp            0\n",
      "Parch            0\n",
      "Ticket           0\n",
      "Fare             0\n",
      "Cabin          687\n",
      "Embarked         0\n",
      "dtype: int64\n"
     ]
    }
   ],
   "source": [
    "# Check again for missing values\n",
    "print(\"The number of missing values for each column is shown below:\\n\")\n",
    "print(train.isnull().sum())\n",
    "\n",
    "# Plot a histogram of Age, to see how to impute its missing values\n",
    "plt.hist(train.Age)\n",
    "plt.xlabel(\"Age\")\n",
    "plt.ylabel(\"Frequency\")\n",
    "plt.title(\"Histogram of Age\")\n",
    "plt.show()\n",
    "\n",
    "# Distribution of ages is skewed to the right. Impute with mode (most_frequent) \n",
    "from sklearn.impute import SimpleImputer\n",
    "mode_imputer = SimpleImputer(strategy='most_frequent')\n",
    "\n",
    "# Apply imputer on Age and Embarked columns\n",
    "impute_columns = ['Age', 'Embarked']\n",
    "train[impute_columns] = mode_imputer.fit_transform(train[impute_columns])\n",
    "\n",
    "# Check for missing values after imputation\n",
    "print(\"\\nThe number of missing values for each column after imputation is shown below:\\n\")\n",
    "print(train.isnull().sum())\n",
    "\n",
    "# Create a copy of train data\n",
    "X = train.copy()\n",
    "\n",
    "# Create Relatives predictor by adding SibSp and Parch; insert into X\n",
    "X.insert(0, \"Relatives\", train.SibSp + train.Parch, True)\n",
    "\n",
    "# Select features Relatives, Pclass, and Age; create new dataframe, X, that will be used in model building\n",
    "features = ['Relatives', 'Pclass', 'Age']\n",
    "X = X[features]\n",
    "\n",
    "# Apply Label Encoder to Sex to transform it into 0s and 1s; insert back into X dataset\n",
    "Sex_encoded = LabelEncoder().fit_transform(train.Sex)\n",
    "X.insert(0, \"Sex_encoded\", Sex_encoded, True)\n",
    "\n",
    "# Apply One-Hot encoding to Embarked; add back into X dataset\n",
    "Embarked = pd.get_dummies(train.Embarked)\n",
    "X = X.join(Embarked)\n",
    "\n",
    "# Isolate Survived from train data\n",
    "y = train[\"Survived\"]"
   ]
  },
  {
   "cell_type": "code",
   "execution_count": 12,
   "metadata": {},
   "outputs": [
    {
     "data": {
      "text/html": [
       "<div>\n",
       "<style scoped>\n",
       "    .dataframe tbody tr th:only-of-type {\n",
       "        vertical-align: middle;\n",
       "    }\n",
       "\n",
       "    .dataframe tbody tr th {\n",
       "        vertical-align: top;\n",
       "    }\n",
       "\n",
       "    .dataframe thead th {\n",
       "        text-align: right;\n",
       "    }\n",
       "</style>\n",
       "<table border=\"1\" class=\"dataframe\">\n",
       "  <thead>\n",
       "    <tr style=\"text-align: right;\">\n",
       "      <th></th>\n",
       "      <th>Sex_encoded</th>\n",
       "      <th>Relatives</th>\n",
       "      <th>Pclass</th>\n",
       "      <th>Age</th>\n",
       "      <th>C</th>\n",
       "      <th>Q</th>\n",
       "      <th>S</th>\n",
       "    </tr>\n",
       "  </thead>\n",
       "  <tbody>\n",
       "    <tr>\n",
       "      <th>0</th>\n",
       "      <td>1</td>\n",
       "      <td>1</td>\n",
       "      <td>3</td>\n",
       "      <td>22.0</td>\n",
       "      <td>0</td>\n",
       "      <td>0</td>\n",
       "      <td>1</td>\n",
       "    </tr>\n",
       "    <tr>\n",
       "      <th>1</th>\n",
       "      <td>0</td>\n",
       "      <td>1</td>\n",
       "      <td>1</td>\n",
       "      <td>38.0</td>\n",
       "      <td>1</td>\n",
       "      <td>0</td>\n",
       "      <td>0</td>\n",
       "    </tr>\n",
       "    <tr>\n",
       "      <th>2</th>\n",
       "      <td>0</td>\n",
       "      <td>0</td>\n",
       "      <td>3</td>\n",
       "      <td>26.0</td>\n",
       "      <td>0</td>\n",
       "      <td>0</td>\n",
       "      <td>1</td>\n",
       "    </tr>\n",
       "    <tr>\n",
       "      <th>3</th>\n",
       "      <td>0</td>\n",
       "      <td>1</td>\n",
       "      <td>1</td>\n",
       "      <td>35.0</td>\n",
       "      <td>0</td>\n",
       "      <td>0</td>\n",
       "      <td>1</td>\n",
       "    </tr>\n",
       "    <tr>\n",
       "      <th>4</th>\n",
       "      <td>1</td>\n",
       "      <td>0</td>\n",
       "      <td>3</td>\n",
       "      <td>35.0</td>\n",
       "      <td>0</td>\n",
       "      <td>0</td>\n",
       "      <td>1</td>\n",
       "    </tr>\n",
       "  </tbody>\n",
       "</table>\n",
       "</div>"
      ],
      "text/plain": [
       "   Sex_encoded  Relatives  Pclass   Age  C  Q  S\n",
       "0            1          1       3  22.0  0  0  1\n",
       "1            0          1       1  38.0  1  0  0\n",
       "2            0          0       3  26.0  0  0  1\n",
       "3            0          1       1  35.0  0  0  1\n",
       "4            1          0       3  35.0  0  0  1"
      ]
     },
     "metadata": {},
     "output_type": "display_data"
    }
   ],
   "source": [
    "display(X.head())"
   ]
  },
  {
   "cell_type": "code",
   "execution_count": 13,
   "metadata": {},
   "outputs": [
    {
     "name": "stdout",
     "output_type": "stream",
     "text": [
      "The number of missing values for each column is shown below:\n",
      "\n",
      "PassengerId      0\n",
      "Pclass           0\n",
      "Name             0\n",
      "Sex              0\n",
      "Age             86\n",
      "SibSp            0\n",
      "Parch            0\n",
      "Ticket           0\n",
      "Fare             1\n",
      "Cabin          327\n",
      "Embarked         0\n",
      "dtype: int64\n",
      "\n",
      "The number of missing values for each column after imputation is shown below:\n",
      "\n",
      "PassengerId      0\n",
      "Pclass           0\n",
      "Name             0\n",
      "Sex              0\n",
      "Age              0\n",
      "SibSp            0\n",
      "Parch            0\n",
      "Ticket           0\n",
      "Fare             1\n",
      "Cabin          327\n",
      "Embarked         0\n",
      "dtype: int64\n"
     ]
    }
   ],
   "source": [
    "# Check for missing values\n",
    "print(\"The number of missing values for each column is shown below:\\n\")\n",
    "print(test.isnull().sum())\n",
    "\n",
    "# Distribution of ages is skewed to the right. Impute with mode (most_frequent) \n",
    "from sklearn.impute import SimpleImputer\n",
    "mode_imputer = SimpleImputer(strategy='most_frequent')\n",
    "\n",
    "# Apply imputer on Age column\n",
    "test['Age'] = mode_imputer.fit_transform(test['Age'].values.reshape(-1, 1))\n",
    "\n",
    "# Check for missing values after imputation\n",
    "print(\"\\nThe number of missing values for each column after imputation is shown below:\\n\")\n",
    "print(test.isnull().sum())\n",
    "\n",
    "# Create a copy of train data\n",
    "X_test = test.copy()\n",
    "\n",
    "# Create Relatives predictor by adding SibSp and Parch; insert into X_test\n",
    "X_test.insert(0, \"Relatives\", test.SibSp + test.Parch, True)\n",
    "\n",
    "# Select features Relatives, Pclass, and Age; create new dataframe, X_test, that will be used in model building\n",
    "features = ['Relatives', 'Pclass', 'Age']\n",
    "X_test = X_test[features]\n",
    "\n",
    "# Apply Label Encoder to Sex to transform it into 0s and 1s; insert back into X_test dataset\n",
    "Sex_encoded = LabelEncoder().fit_transform(test.Sex)\n",
    "X_test.insert(0, \"Sex_encoded\", Sex_encoded, True)\n",
    "\n",
    "# Apply One-Hot encoding to Embarked; add into X_test dataset\n",
    "Embarked = pd.get_dummies(test.Embarked)\n",
    "X_test = X_test.join(Embarked)"
   ]
  },
  {
   "cell_type": "code",
   "execution_count": 14,
   "metadata": {},
   "outputs": [
    {
     "data": {
      "text/html": [
       "<div>\n",
       "<style scoped>\n",
       "    .dataframe tbody tr th:only-of-type {\n",
       "        vertical-align: middle;\n",
       "    }\n",
       "\n",
       "    .dataframe tbody tr th {\n",
       "        vertical-align: top;\n",
       "    }\n",
       "\n",
       "    .dataframe thead th {\n",
       "        text-align: right;\n",
       "    }\n",
       "</style>\n",
       "<table border=\"1\" class=\"dataframe\">\n",
       "  <thead>\n",
       "    <tr style=\"text-align: right;\">\n",
       "      <th></th>\n",
       "      <th>Sex_encoded</th>\n",
       "      <th>Relatives</th>\n",
       "      <th>Pclass</th>\n",
       "      <th>Age</th>\n",
       "      <th>C</th>\n",
       "      <th>Q</th>\n",
       "      <th>S</th>\n",
       "    </tr>\n",
       "  </thead>\n",
       "  <tbody>\n",
       "    <tr>\n",
       "      <th>0</th>\n",
       "      <td>1</td>\n",
       "      <td>0</td>\n",
       "      <td>3</td>\n",
       "      <td>34.5</td>\n",
       "      <td>0</td>\n",
       "      <td>1</td>\n",
       "      <td>0</td>\n",
       "    </tr>\n",
       "    <tr>\n",
       "      <th>1</th>\n",
       "      <td>0</td>\n",
       "      <td>1</td>\n",
       "      <td>3</td>\n",
       "      <td>47.0</td>\n",
       "      <td>0</td>\n",
       "      <td>0</td>\n",
       "      <td>1</td>\n",
       "    </tr>\n",
       "    <tr>\n",
       "      <th>2</th>\n",
       "      <td>1</td>\n",
       "      <td>0</td>\n",
       "      <td>2</td>\n",
       "      <td>62.0</td>\n",
       "      <td>0</td>\n",
       "      <td>1</td>\n",
       "      <td>0</td>\n",
       "    </tr>\n",
       "    <tr>\n",
       "      <th>3</th>\n",
       "      <td>1</td>\n",
       "      <td>0</td>\n",
       "      <td>3</td>\n",
       "      <td>27.0</td>\n",
       "      <td>0</td>\n",
       "      <td>0</td>\n",
       "      <td>1</td>\n",
       "    </tr>\n",
       "    <tr>\n",
       "      <th>4</th>\n",
       "      <td>0</td>\n",
       "      <td>2</td>\n",
       "      <td>3</td>\n",
       "      <td>22.0</td>\n",
       "      <td>0</td>\n",
       "      <td>0</td>\n",
       "      <td>1</td>\n",
       "    </tr>\n",
       "  </tbody>\n",
       "</table>\n",
       "</div>"
      ],
      "text/plain": [
       "   Sex_encoded  Relatives  Pclass   Age  C  Q  S\n",
       "0            1          0       3  34.5  0  1  0\n",
       "1            0          1       3  47.0  0  0  1\n",
       "2            1          0       2  62.0  0  1  0\n",
       "3            1          0       3  27.0  0  0  1\n",
       "4            0          2       3  22.0  0  0  1"
      ]
     },
     "metadata": {},
     "output_type": "display_data"
    }
   ],
   "source": [
    "display(X_test.head())"
   ]
  },
  {
   "cell_type": "code",
   "execution_count": 15,
   "metadata": {},
   "outputs": [
    {
     "data": {
      "text/html": [
       "<style>#sk-container-id-1 {color: black;background-color: white;}#sk-container-id-1 pre{padding: 0;}#sk-container-id-1 div.sk-toggleable {background-color: white;}#sk-container-id-1 label.sk-toggleable__label {cursor: pointer;display: block;width: 100%;margin-bottom: 0;padding: 0.3em;box-sizing: border-box;text-align: center;}#sk-container-id-1 label.sk-toggleable__label-arrow:before {content: \"▸\";float: left;margin-right: 0.25em;color: #696969;}#sk-container-id-1 label.sk-toggleable__label-arrow:hover:before {color: black;}#sk-container-id-1 div.sk-estimator:hover label.sk-toggleable__label-arrow:before {color: black;}#sk-container-id-1 div.sk-toggleable__content {max-height: 0;max-width: 0;overflow: hidden;text-align: left;background-color: #f0f8ff;}#sk-container-id-1 div.sk-toggleable__content pre {margin: 0.2em;color: black;border-radius: 0.25em;background-color: #f0f8ff;}#sk-container-id-1 input.sk-toggleable__control:checked~div.sk-toggleable__content {max-height: 200px;max-width: 100%;overflow: auto;}#sk-container-id-1 input.sk-toggleable__control:checked~label.sk-toggleable__label-arrow:before {content: \"▾\";}#sk-container-id-1 div.sk-estimator input.sk-toggleable__control:checked~label.sk-toggleable__label {background-color: #d4ebff;}#sk-container-id-1 div.sk-label input.sk-toggleable__control:checked~label.sk-toggleable__label {background-color: #d4ebff;}#sk-container-id-1 input.sk-hidden--visually {border: 0;clip: rect(1px 1px 1px 1px);clip: rect(1px, 1px, 1px, 1px);height: 1px;margin: -1px;overflow: hidden;padding: 0;position: absolute;width: 1px;}#sk-container-id-1 div.sk-estimator {font-family: monospace;background-color: #f0f8ff;border: 1px dotted black;border-radius: 0.25em;box-sizing: border-box;margin-bottom: 0.5em;}#sk-container-id-1 div.sk-estimator:hover {background-color: #d4ebff;}#sk-container-id-1 div.sk-parallel-item::after {content: \"\";width: 100%;border-bottom: 1px solid gray;flex-grow: 1;}#sk-container-id-1 div.sk-label:hover label.sk-toggleable__label {background-color: #d4ebff;}#sk-container-id-1 div.sk-serial::before {content: \"\";position: absolute;border-left: 1px solid gray;box-sizing: border-box;top: 0;bottom: 0;left: 50%;z-index: 0;}#sk-container-id-1 div.sk-serial {display: flex;flex-direction: column;align-items: center;background-color: white;padding-right: 0.2em;padding-left: 0.2em;position: relative;}#sk-container-id-1 div.sk-item {position: relative;z-index: 1;}#sk-container-id-1 div.sk-parallel {display: flex;align-items: stretch;justify-content: center;background-color: white;position: relative;}#sk-container-id-1 div.sk-item::before, #sk-container-id-1 div.sk-parallel-item::before {content: \"\";position: absolute;border-left: 1px solid gray;box-sizing: border-box;top: 0;bottom: 0;left: 50%;z-index: -1;}#sk-container-id-1 div.sk-parallel-item {display: flex;flex-direction: column;z-index: 1;position: relative;background-color: white;}#sk-container-id-1 div.sk-parallel-item:first-child::after {align-self: flex-end;width: 50%;}#sk-container-id-1 div.sk-parallel-item:last-child::after {align-self: flex-start;width: 50%;}#sk-container-id-1 div.sk-parallel-item:only-child::after {width: 0;}#sk-container-id-1 div.sk-dashed-wrapped {border: 1px dashed gray;margin: 0 0.4em 0.5em 0.4em;box-sizing: border-box;padding-bottom: 0.4em;background-color: white;}#sk-container-id-1 div.sk-label label {font-family: monospace;font-weight: bold;display: inline-block;line-height: 1.2em;}#sk-container-id-1 div.sk-label-container {text-align: center;}#sk-container-id-1 div.sk-container {/* jupyter's `normalize.less` sets `[hidden] { display: none; }` but bootstrap.min.css set `[hidden] { display: none !important; }` so we also need the `!important` here to be able to override the default hidden behavior on the sphinx rendered scikit-learn.org. See: https://github.com/scikit-learn/scikit-learn/issues/21755 */display: inline-block !important;position: relative;}#sk-container-id-1 div.sk-text-repr-fallback {display: none;}</style><div id=\"sk-container-id-1\" class=\"sk-top-container\"><div class=\"sk-text-repr-fallback\"><pre>SVC(degree=2, kernel=&#x27;poly&#x27;)</pre><b>In a Jupyter environment, please rerun this cell to show the HTML representation or trust the notebook. <br />On GitHub, the HTML representation is unable to render, please try loading this page with nbviewer.org.</b></div><div class=\"sk-container\" hidden><div class=\"sk-item\"><div class=\"sk-estimator sk-toggleable\"><input class=\"sk-toggleable__control sk-hidden--visually\" id=\"sk-estimator-id-1\" type=\"checkbox\" checked><label for=\"sk-estimator-id-1\" class=\"sk-toggleable__label sk-toggleable__label-arrow\">SVC</label><div class=\"sk-toggleable__content\"><pre>SVC(degree=2, kernel=&#x27;poly&#x27;)</pre></div></div></div></div></div>"
      ],
      "text/plain": [
       "SVC(degree=2, kernel='poly')"
      ]
     },
     "execution_count": 15,
     "metadata": {},
     "output_type": "execute_result"
    }
   ],
   "source": [
    "model = SVC(kernel = 'poly', degree = 2)\n",
    "model.fit(X,y)"
   ]
  },
  {
   "cell_type": "code",
   "execution_count": 16,
   "metadata": {},
   "outputs": [],
   "source": [
    "# Get predictions on test data\n",
    "preds = model.predict(X_test)\n",
    "\n",
    "# Save to CSV file\n",
    "output = pd.DataFrame({'PassengerId': test.PassengerId,\n",
    "                      'Survived': preds})\n",
    "output.to_csv('submission.csv', index=False)"
   ]
  }
 ],
 "metadata": {
  "interpreter": {
   "hash": "afb734500600fd355917ca529030176ea0ca205570884b88f2f6f7d791fd3fbe"
  },
  "kernelspec": {
   "display_name": "Python 3.10.4 64-bit",
   "language": "python",
   "name": "python3"
  },
  "language_info": {
   "codemirror_mode": {
    "name": "ipython",
    "version": 3
   },
   "file_extension": ".py",
   "mimetype": "text/x-python",
   "name": "python",
   "nbconvert_exporter": "python",
   "pygments_lexer": "ipython3",
   "version": "3.10.4"
  },
  "orig_nbformat": 4
 },
 "nbformat": 4,
 "nbformat_minor": 2
}
